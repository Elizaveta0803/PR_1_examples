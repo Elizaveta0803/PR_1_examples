{
  "cells": [
    {
      "cell_type": "markdown",
      "metadata": {
        "id": "G6xUMstcIudh"
      },
      "source": [
        "# Практическая работа 1. Источники данных. Извлечение данных\n",
        "\n"
      ]
    },
    {
      "cell_type": "markdown",
      "metadata": {
        "id": "_2zMItYSgrbH"
      },
      "source": [
        "ФИО: Шепелева Елизавета\n",
        "\n",
        "Группа: АДЭУ-201"
      ]
    },
    {
      "cell_type": "markdown",
      "metadata": {
        "id": "gYQNmI_PKWOP"
      },
      "source": [
        "Используем данные из открытого источника для `CSV`, `Parquet` и `API`, а также вручную подготовим данные для баз данных и HTML  из открытых данных (доступно по адресу https://data.cityofnewyork.us)."
      ]
    },
    {
      "cell_type": "code",
      "execution_count": null,
      "metadata": {
        "id": "nT98csOGMCHT"
      },
      "outputs": [],
      "source": [
        "# import modules\n",
        "import certifi\n",
        "import json\n",
        "import pandas as pd\n",
        "import numpy as np\n",
        "import matplotlib.pyplot as plt\n",
        "import sqlite3\n",
        "import urllib3\n",
        "from urllib3 import request\n",
        "from unicodedata import normalize"
      ]
    },
    {
      "cell_type": "markdown",
      "metadata": {
        "id": "Bqnf9yljK8lZ"
      },
      "source": [
        "1.1 Файлы данных `CSV` и `Excel`"
      ]
    },
    {
      "cell_type": "markdown",
      "metadata": {
        "id": "gELKRi7_LbcR"
      },
      "source": [
        "Файлы данных могут быть получены откуда угодно: от файлов, хранящихся локально на вашем устройстве, до файловых систем облачного хранилища.\n",
        "\n",
        "Даже при работе в основном с базами данных или внешними `API` использование физических файлов — отличный способ легко использовать данные с метками времени, что может пригодиться при любых временных проблемах с подключением."
      ]
    },
    {
      "cell_type": "code",
      "execution_count": null,
      "metadata": {
        "id": "VcorFH1UIxRv"
      },
      "outputs": [],
      "source": [
        "# Загрузите данные с портала открытых данных Правительства Москвы —\n",
        "# данные о Wi-Fi в кинотеатрах, введя в браузер следующий URL-адрес: https://data.mos.ru/opendata/60789?isDynamic=false.\n",
        "# Будет загружен CSV-файл *.csv. Сохраните этот файл.\n",
        "# прочитать данные CSV, используя команду Pandas pd.read_csv() в качестве df DataFrame, затем выберите первые пять строк DataFrame с помощью df.head()."
      ]
    },
    {
      "cell_type": "markdown",
      "metadata": {
        "id": "ea8l3d-XMYvH"
      },
      "source": [
        "**Задание 1.1.** Зайти на сайт URL-адрес: https://data.mos.ru/opendata/60789?isDynamic=false\n",
        "\n",
        "**Задание 1.2.** Загрузить данные о `Wi-Fi в кинотеатрах` в Colab."
      ]
    },
    {
      "cell_type": "code",
      "execution_count": null,
      "metadata": {
        "id": "2CaoF8JaMrky"
      },
      "outputs": [],
      "source": [
        "from google.colab import files\n",
        "\n",
        "uploaded = files.upload()"
      ]
    },
    {
      "cell_type": "markdown",
      "metadata": {
        "id": "iECFXabrMkih"
      },
      "source": [
        "**Задание 1.3.** Считайте данные из файла CSV. Использовать метод `pandas read_csv` для простоты и скорости."
      ]
    },
    {
      "cell_type": "code",
      "execution_count": null,
      "metadata": {
        "id": "BlGgzX6-MORB"
      },
      "outputs": [],
      "source": [
        "df_csv = pd.read_csv(\"data-60789-2024-01-24.csv\", delimiter=';')\n",
        "df_csv.head()"
      ]
    },
    {
      "cell_type": "markdown",
      "metadata": {
        "id": "5WdAK8nhSas0"
      },
      "source": [
        "**Задание 1.4.** Так как первая строка включает определение столбцов, удалить строку с `index=0`."
      ]
    },
    {
      "cell_type": "code",
      "execution_count": null,
      "metadata": {
        "id": "lUqpf79kSN_p"
      },
      "outputs": [],
      "source": [
        "data = df_csv.drop(df_csv.index[0])"
      ]
    },
    {
      "cell_type": "code",
      "execution_count": null,
      "metadata": {
        "id": "xYi52qTBST3k"
      },
      "outputs": [],
      "source": [
        "data"
      ]
    },
    {
      "cell_type": "markdown",
      "metadata": {
        "id": "5fyK9BVFe2cX"
      },
      "source": [
        "# **Задание 1.5.** Выполнить парсинг веб-страницы с помощью `JSON`"
      ]
    },
    {
      "cell_type": "code",
      "execution_count": null,
      "metadata": {
        "id": "mZX5Wy5nS4I8"
      },
      "outputs": [],
      "source": [
        "# Импорт стандартных пакетов\n",
        "import pandas as pd\n",
        "\n",
        "# Для парсинга веб-страниц\n",
        "import requests as reqs\n",
        "import urllib.request\n",
        "from bs4 import BeautifulSoup\n",
        "import json\n",
        "import os\n",
        "import pprint\n",
        "\n",
        "# Для выполнения операций с регулярными выражениями\n",
        "import re\n",
        "\n",
        "api_url = 'https://jsonplaceholder.typicode.com/todos/1'"
      ]
    },
    {
      "cell_type": "code",
      "execution_count": null,
      "metadata": {
        "id": "4PjIZEI8bYdJ"
      },
      "outputs": [],
      "source": [
        "resp = reqs.get(api_url)"
      ]
    },
    {
      "cell_type": "markdown",
      "metadata": {
        "id": "2GDW-0qBdWuH"
      },
      "source": [
        "## <font color='blue'>Парсинг веб-страниц с помощью JSON</font>\n",
        "\n",
        "### <font color=\"green\"> Что такое JSON?</font>\n",
        "\n",
        "* JSON (нотация объектов JavaScript) — популярный формат данных, используемый для представления структурированных данных.\n",
        "* Это текстовый формат, который не зависит от языка и может использоваться в Python, Perl и других языках.\n",
        "* Формат JSON используется для передачи данных между серверами и веб-приложениями.\n",
        "* Он построен на двух структурах:\n",
        "\n",
        "      - Коллекция пар имя/значение. Это реализуется как объект, запись, словарь, хеш-таблица, список ключей или ассоциативный массив.\n",
        "      - Упорядоченный список значений. Это реализуется как массив, вектор, список или последовательность.\n",
        "     \n",
        "     \n",
        "Основные функции `JSON`:\n",
        "\n",
        "* `dump()`: запись закодированной строки в файл.\n",
        "* `load()`: декодирование во время чтения файла JSON.\n",
        "* `dumps()`: кодирование в объекты JSON.\n",
        "* `loads()`: декодирует строку JSON."
      ]
    },
    {
      "cell_type": "markdown",
      "metadata": {
        "id": "BHqsnzQOdy4U"
      },
      "source": [
        "### <font color=\"green\"> Сериализация и десериализация</font>\n",
        "\n",
        "> … процесс перевода структур данных или состояния объекта в формат, который можно сохранить… или передать… и позже восстановить (возможно, в другой компьютерной среде). (Википедия)\n",
        "\n",
        "* **Сериализация** — это процесс преобразования объектов или структур данных в потоки байтов или строки.\n",
        "* Эти потоки байтов затем можно легко сохранить или передать.\n",
        "* Это позволяет разработчикам сохранять, например, данные конфигурации или прогресс пользователя, а затем сохранять их (на диске или в базе данных) или отправлять в другое место.\n",
        "* Обратный процесс сериализации известен как **десериализация**.\n",
        "\n",
        "### Зачем нужна сериализация?\n",
        "\n",
        "Нам нужна сериализация по следующим причинам:\n",
        "\n",
        "- **Связь**: Сериализация включает в себя процедуру сериализации и передачи объекта. Это позволяет нескольким компьютерным системам одновременно проектировать, совместно использовать и выполнять объекты.\n",
        "- **Кэширование**: время, затрачиваемое на создание объекта, больше времени, необходимого для его десериализации. Сериализация минимизирует затраты времени за счет кэширования гигантских объектов.\n",
        "- **Глубокое копирование**: процесс клонирования упрощается благодаря сериализации. Точная копия объекта получается путем сериализации объекта в массив байтов и последующей его десериализации.\n",
        "- **Переносимость**. Основное преимущество сериализации заключается в том, что она работает в разных архитектурах и операционных системах.\n",
        "- **Постоянство**: состояние любого объекта можно сохранить напрямую, применив к нему сериализацию, и сохранить в базе данных, чтобы его можно было получить позже."
      ]
    },
    {
      "cell_type": "markdown",
      "metadata": {
        "id": "IlsZXjzYeAUb"
      },
      "source": [
        "**Сериализация**\n",
        "\n",
        "Мы используем функцию dump(), которая принимает два аргумента:\n",
        "* Объект данных, подлежащий сериализации.\n",
        "* Объект файла, в который он будет записан (байтовый формат)."
      ]
    },
    {
      "cell_type": "code",
      "execution_count": null,
      "metadata": {
        "id": "EfnEZkVieLkf"
      },
      "outputs": [],
      "source": [
        "file_name = \"Sample.json\"\n",
        "with open(file_name, \"w\") as fid:\n",
        "     json.dump(resp.json(), fid)"
      ]
    },
    {
      "cell_type": "code",
      "execution_count": null,
      "metadata": {
        "id": "LD4O-1TGeMYX",
        "colab": {
          "base_uri": "https://localhost:8080/"
        },
        "outputId": "eb285a23-dcdb-4218-ddd7-490d862ae421"
      },
      "outputs": [
        {
          "output_type": "stream",
          "name": "stdout",
          "text": [
            "{\"userId\": 1, \"id\": 1, \"title\": \"delectus aut autem\", \"completed\": false}"
          ]
        }
      ],
      "source": [
        "!cat Sample.json"
      ]
    },
    {
      "cell_type": "markdown",
      "metadata": {
        "id": "BLcl-4_BfQsN"
      },
      "source": [
        "**Десериализация JSON**\n",
        "\n",
        "* Десериализация противоположна сериализации, т. е. преобразованию объекта JSON в соответствующие объекты Python.\n",
        "* Мы используем функцию load(), которая обычно используется для загрузки из строки, в противном случае корневой объект находится в списке или диктовке."
      ]
    },
    {
      "cell_type": "code",
      "execution_count": null,
      "metadata": {
        "id": "Lzwg5oRTfTeZ",
        "colab": {
          "base_uri": "https://localhost:8080/"
        },
        "outputId": "d477730f-3e1f-424d-8606-e0996936f3b6"
      },
      "outputs": [
        {
          "output_type": "stream",
          "name": "stdout",
          "text": [
            "{'userId': 1, 'id': 1, 'title': 'delectus aut autem', 'completed': False}\n"
          ]
        }
      ],
      "source": [
        "with open(file_name, \"r\") as fid:\n",
        "     json_obj = json.load(fid)\n",
        "\n",
        "print(json_obj)"
      ]
    },
    {
      "cell_type": "code",
      "execution_count": null,
      "metadata": {
        "id": "9JciveNvfUIA",
        "colab": {
          "base_uri": "https://localhost:8080/"
        },
        "outputId": "03ffad90-7d40-4c78-ed43-ce03db2c84f1"
      },
      "outputs": [
        {
          "output_type": "stream",
          "name": "stdout",
          "text": [
            "      userId: 1\n",
            "          id: 1\n",
            "       title: delectus aut autem\n",
            "   completed: False\n"
          ]
        }
      ],
      "source": [
        "for key in json_obj:\n",
        "    print(\"{:>12}: {}\".format(key, json_obj[key]))"
      ]
    },
    {
      "cell_type": "markdown",
      "metadata": {
        "id": "Q4xQKS4ofogK"
      },
      "source": [
        "Обрабатываем данные с помощью `JSON`:"
      ]
    },
    {
      "cell_type": "code",
      "execution_count": null,
      "metadata": {
        "id": "v0hqPgW1f-bz"
      },
      "outputs": [],
      "source": [
        "response = reqs.get(api_url)"
      ]
    },
    {
      "cell_type": "code",
      "execution_count": null,
      "metadata": {
        "id": "5hYmQ8e4foDy"
      },
      "outputs": [],
      "source": [
        "if response.status_code == 200:\n",
        "   json_page = json.loads(response.text)"
      ]
    },
    {
      "cell_type": "markdown",
      "metadata": {
        "id": "j5kHmjTQgGuU"
      },
      "source": [
        "**Задание 1.6.** Выполнить парсинг веб-страницы с помощью `JSON`. Получите URL-адрес:"
      ]
    },
    {
      "cell_type": "code",
      "execution_count": null,
      "metadata": {
        "id": "V4MT_7fKgKDE"
      },
      "outputs": [],
      "source": [
        "print(f\"URL: \\n\\t {response.url}\")"
      ]
    },
    {
      "cell_type": "markdown",
      "metadata": {
        "id": "ZONlhgElgVhZ"
      },
      "source": [
        "**Задание 1.7.** Выполнить парсинг веб-страницы с помощью `JSON`. Определите тип контента:"
      ]
    },
    {
      "cell_type": "code",
      "execution_count": null,
      "metadata": {
        "id": "rnRYlGxPghJi"
      },
      "outputs": [],
      "source": [
        "print(f\"Content type: \\n\\t {response.headers['content-type']}\")"
      ]
    },
    {
      "cell_type": "markdown",
      "metadata": {
        "id": "HYz1ZjjchAXq"
      },
      "source": [
        "**Задание 1.8.** Выполнить парсинг веб-страницы с помощью `JSON`. Обработайте данные с помощью JSON:"
      ]
    },
    {
      "cell_type": "code",
      "execution_count": null,
      "metadata": {
        "id": "r8Wpu-u-hHCj"
      },
      "outputs": [],
      "source": [
        "if response.status_code == 200:\n",
        "   json_page = json.loads(response.text)"
      ]
    },
    {
      "cell_type": "markdown",
      "metadata": {
        "id": "DpnBucrBhRCr"
      },
      "source": [
        "**Задание 1.9.**  Обработайте данные с помощью `JSON`. Посмотреть на ключи:"
      ]
    },
    {
      "cell_type": "code",
      "execution_count": null,
      "metadata": {
        "id": "KKs3wyTdhax1"
      },
      "outputs": [],
      "source": [
        "for x in json_page:\n",
        "    print(x)"
      ]
    },
    {
      "cell_type": "markdown",
      "metadata": {
        "id": "oBqriFtThn3H"
      },
      "source": [
        "Распечатать ключи и значения:"
      ]
    },
    {
      "cell_type": "code",
      "execution_count": null,
      "metadata": {
        "id": "peUqDSuQhqIW"
      },
      "outputs": [],
      "source": [
        "for x in json_page:\n",
        "    print(f\"{x} --> {json_page[x]} \\n\")"
      ]
    },
    {
      "cell_type": "code",
      "execution_count": null,
      "metadata": {
        "id": "FSJj7Ykdhz6O"
      },
      "outputs": [],
      "source": [
        "pprint.pprint(json_page)"
      ]
    },
    {
      "cell_type": "markdown",
      "metadata": {
        "id": "xTubY5cRenax"
      },
      "source": [
        "# **Задание 1.10.** Выполнить парсинг веб-страницы с помощью `Beautiful Soup`"
      ]
    },
    {
      "cell_type": "markdown",
      "metadata": {
        "id": "LnUY5VS_kaUs"
      },
      "source": [
        " <font color='blue'>Парсинг веб-страниц с помощью Beautiful Soup</font>\n",
        "\n",
        "- Веб-скрапинг позволяет загрузить HTML-код веб-сайта и извлечь необходимые вам данные.\n",
        "- Beautiful Soup — это библиотека Python для очистки данных с веб-сайтов.\n",
        "- Beautiful Soup создает дерево разбора из проанализированных документов HTML и XML."
      ]
    },
    {
      "cell_type": "code",
      "execution_count": null,
      "metadata": {
        "id": "O4itFt8mklPV"
      },
      "outputs": [],
      "source": [
        "from bs4 import BeautifulSoup as bso"
      ]
    },
    {
      "cell_type": "code",
      "execution_count": null,
      "metadata": {
        "id": "i4qW1Nvkkn-B"
      },
      "outputs": [],
      "source": [
        "# Отправление запроса на получение данных и присваивание ответ переменной.\n",
        "source = reqs.get(api_url)"
      ]
    },
    {
      "cell_type": "code",
      "execution_count": null,
      "metadata": {
        "id": "yFJqrl6Fa5au"
      },
      "outputs": [],
      "source": [
        "print(f\"Content type: \\n\\t {source.headers['content-type']}\")"
      ]
    },
    {
      "cell_type": "code",
      "execution_count": null,
      "metadata": {
        "id": "e0iCRFeOk8QN"
      },
      "outputs": [],
      "source": [
        "print(source)"
      ]
    },
    {
      "cell_type": "markdown",
      "metadata": {
        "id": "I2K4PKBZlKjR"
      },
      "source": [
        "**Задание 1.10.1.** Выполнить парсинг веб-страницы с помощью `Beautiful Soup`. Создать beautiful soup объект."
      ]
    },
    {
      "cell_type": "code",
      "execution_count": null,
      "metadata": {
        "id": "UY_9Ro7alce_"
      },
      "outputs": [],
      "source": [
        "mysoup = bso(source.text, 'html.parser')"
      ]
    },
    {
      "cell_type": "markdown",
      "metadata": {
        "id": "9wA_Ko8kleCF"
      },
      "source": [
        "**Задание 1.10.2.** Выполнить парсинг веб-страницы с помощью `Beautiful Soup`. Распечатайте HTML-содержимое страницы, используя метод prettify"
      ]
    },
    {
      "cell_type": "code",
      "execution_count": null,
      "metadata": {
        "id": "jTbNBgTvltXT"
      },
      "outputs": [],
      "source": [
        "print(mysoup.prettify())"
      ]
    },
    {
      "cell_type": "markdown",
      "metadata": {
        "id": "MTREZUPtlxmQ"
      },
      "source": [
        "**Задание 1.10.3.** Выполнить парсинг веб-страницы с помощью `Beautiful Soup`. Получить заголовок страницы"
      ]
    },
    {
      "cell_type": "code",
      "execution_count": null,
      "metadata": {
        "id": "ZLysxT0Ul6oV"
      },
      "outputs": [],
      "source": [
        "print(mysoup.title)"
      ]
    },
    {
      "cell_type": "markdown",
      "metadata": {
        "id": "Vgdhx8i3vl0T"
      },
      "source": [
        "# Получение данных из таблиц РСУБД"
      ]
    },
    {
      "cell_type": "code",
      "execution_count": null,
      "metadata": {
        "id": "-7cuFZ5cvn7c"
      },
      "outputs": [],
      "source": [
        "from google.colab import files\n",
        "\n",
        "uploaded = files.upload()"
      ]
    },
    {
      "cell_type": "markdown",
      "metadata": {
        "id": "fBd1bLXTwTRY"
      },
      "source": [
        "**Задание 1.11.** Считать результаты запроса sqlite в DataFrame pandas"
      ]
    },
    {
      "cell_type": "code",
      "execution_count": null,
      "metadata": {
        "id": "sGqUHLPYwNh8"
      },
      "outputs": [],
      "source": [
        "# Считываем результаты запроса sqlite в DataFrame pandas\n",
        "with sqlite3.connect(\"movies.sqlite\") as conn:\n",
        "    df = pd.read_sql(\"SELECT * from movies\", conn)\n",
        "df.head()"
      ]
    },
    {
      "cell_type": "markdown",
      "metadata": {
        "id": "h031gICWwyLR"
      },
      "source": [
        "# Получение данных `Parquet`"
      ]
    },
    {
      "cell_type": "markdown",
      "metadata": {
        "id": "Wal7CA3dw8Bm"
      },
      "source": [
        "Посетите URL https://www1.nyc.gov/site/tlc/about/tlc-trip-record-data.page."
      ]
    },
    {
      "cell_type": "code",
      "execution_count": null,
      "metadata": {
        "id": "JWj497W_wybW"
      },
      "outputs": [],
      "source": [
        "from google.colab import files\n",
        "\n",
        "uploaded = files.upload()"
      ]
    },
    {
      "cell_type": "markdown",
      "metadata": {
        "id": "ruzOMDEsz2pY"
      },
      "source": [
        "**Задание 1.12.** Считайте данные из файла Parquet. Использовать метод pandas read_parquet."
      ]
    },
    {
      "cell_type": "code",
      "execution_count": null,
      "metadata": {
        "id": "oa1kHoKBzssL"
      },
      "outputs": [],
      "source": [
        "df_parquet = pd.read_parquet(\"yellow_tripdata_2023-03.parquet\")\n",
        "df_parquet.head()"
      ]
    }
  ],
  "metadata": {
    "colab": {
      "provenance": [],
      "collapsed_sections": [
        "2GDW-0qBdWuH"
      ]
    },
    "kernelspec": {
      "display_name": "Python 3",
      "name": "python3"
    },
    "language_info": {
      "name": "python"
    }
  },
  "nbformat": 4,
  "nbformat_minor": 0
}