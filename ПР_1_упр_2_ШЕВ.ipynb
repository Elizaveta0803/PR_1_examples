{
  "nbformat": 4,
  "nbformat_minor": 0,
  "metadata": {
    "colab": {
      "provenance": []
    },
    "kernelspec": {
      "name": "python3",
      "display_name": "Python 3"
    },
    "language_info": {
      "name": "python"
    }
  },
  "cells": [
    {
      "cell_type": "code",
      "execution_count": null,
      "metadata": {
        "id": "T2MZNVxPHQcI"
      },
      "outputs": [],
      "source": [
        "import requests\n",
        "import pandas as pd\n",
        "from bs4 import BeautifulSoup as bs"
      ]
    },
    {
      "cell_type": "code",
      "source": [
        "# dont repeat your code\n",
        "def bs_table(source):\n",
        "    b_soup = bs(source, 'html.parser')\n",
        "    return b_soup.find('table')\n",
        "\n",
        "\n",
        "# Делаем запрос на страницу и парсим ее\n",
        "url = 'https://smart-lab.ru/q/bonds/'\n",
        "response = requests.get(url)\n",
        "table = bs_table(response.text)\n",
        "\n",
        "# Парсим хидеры таблицы\n",
        "headers = []\n",
        "for i in table.find_all('th'):\n",
        "    title = i.text\n",
        "    headers.append(title)\n",
        "# Заполняем таблицу хидерами\n",
        "data = pd.DataFrame(columns=headers)\n",
        "\n",
        "# Получение данных таблицы со всех страниц\n",
        "for page in range(1, 18):\n",
        "    response = requests.get(f'https://smart-lab.ru/q/bonds/order_by_val_to_day/desc/page{page}/')\n",
        "    table = bs_table(response.text)\n",
        "    for i in table.find_all('tr')[1:]:\n",
        "        row_data = i.find_all('td')\n",
        "        row = [j.text.strip() for j in row_data]\n",
        "        length = len(data)\n",
        "        data.loc[length] = row\n",
        "\n",
        "# Удаляем ненужные столбцы и записываем в csv\n",
        "data.drop('', inplace=True, axis=1)\n",
        "data.to_csv('data.csv', index=False)\n"
      ],
      "metadata": {
        "id": "17Kkw863HeV9"
      },
      "execution_count": null,
      "outputs": []
    },
    {
      "cell_type": "code",
      "source": [
        "print(\n",
        "    data.head(10).to_string(index=False)\n",
        ")"
      ],
      "metadata": {
        "id": "9ToPIfCgYX2n"
      },
      "execution_count": null,
      "outputs": []
    },
    {
      "cell_type": "code",
      "source": [
        "print(data.keys())"
      ],
      "metadata": {
        "id": "uyP7cyHgYq1H"
      },
      "execution_count": null,
      "outputs": []
    }
  ]
}