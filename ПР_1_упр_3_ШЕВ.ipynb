{
  "nbformat": 4,
  "nbformat_minor": 0,
  "metadata": {
    "colab": {
      "provenance": []
    },
    "kernelspec": {
      "name": "python3",
      "display_name": "Python 3"
    },
    "language_info": {
      "name": "python"
    }
  },
  "cells": [
    {
      "cell_type": "code",
      "execution_count": null,
      "metadata": {
        "id": "VaPMnkefdTIt"
      },
      "outputs": [],
      "source": [
        "import requests\n",
        "import pandas as pd\n",
        "import openpyxl\n",
        "\n",
        "# Переменные\n",
        "first_name = 'Индексы_видов_деятельности_по_ОКВЭД2_в_Российской_Федерации_за_2023г'\n",
        "second_name = ('Топ_10_индексов_производства_по_отдельным_видам_экономической_деятельности_'\n",
        "               'по_Российской_Федерации_за_2023г')\n",
        "data_excel = []\n",
        "headers = []"
      ]
    },
    {
      "cell_type": "code",
      "source": [
        "# Скачиваем файл для дальнейшего парсинга\n",
        "response = requests.get('https://rosstat.gov.ru/storage/mediabank/ind_god_2015-2022.xlsx')\n",
        "with open('data.xlsx', 'wb') as file:\n",
        "    file.write(response.content)\n",
        "\n",
        "# Открываем файл excell\n",
        "workbook = openpyxl.load_workbook('data.xlsx')\n",
        "sheet = workbook['1']\n",
        "row_number = 4\n",
        "row_data = sheet[row_number]\n",
        "\n",
        "# Парсим хидеры из файла\n",
        "for cell in row_data:\n",
        "    if cell.value is None:\n",
        "        pass\n",
        "    else:\n",
        "        headers.append(cell.value)\n",
        "\n",
        "# Парсим все значения внутри таблицы\n",
        "for row in sheet.iter_rows(min_row=5, max_row=135, values_only=True):\n",
        "    data_row = []\n",
        "    for cell in row:\n",
        "        if cell is not None:\n",
        "            data_row.append(cell)\n",
        "    data_excel.append(data_row)\n",
        "\n",
        "# Редактируем название хидеров\n",
        "headers[-1] = '2023'\n",
        "headers[9] = '2021 Второе полугодие'\n",
        "data = pd.DataFrame(data_excel, columns=headers)\n",
        "\n",
        "# Паттерн для создания необходимого нам даташита\n",
        "pattern = ((data['Код ОКВЭД2'] == 'B') |\n",
        "           (data['Код ОКВЭД2'] == 'C') |\n",
        "           (data['Код ОКВЭД2'] == 'D') |\n",
        "           (data['Код ОКВЭД2'] == 'E') |\n",
        "           (data['Код ОКВЭД2'] == 'BCDE'))\n",
        "pattern_headers = ['Наименование вида деятельности по ОКВЭД2', 'Код ОКВЭД2', '2023']\n",
        "\n",
        "# Фильтруем записи по нашему паттерну\n",
        "filter_by_first = data[pattern]\n",
        "filter_by_second = data.loc[~pattern]\n",
        "\n",
        "filtered_one = filter_by_first[pattern_headers]\n",
        "filtered_two = filter_by_second.sort_values(by=['2023'], ascending=False)[pattern_headers]\n",
        "\n",
        "# Выгружаем даташиты в csv для дальнейших манипуляций\n",
        "filtered_one.to_csv(first_name, index=False)\n",
        "filtered_two[:10].to_csv(second_name, index=False)\n",
        "\n",
        "workbook.close()\n"
      ],
      "metadata": {
        "id": "Z833-ACJdcur"
      },
      "execution_count": null,
      "outputs": []
    },
    {
      "cell_type": "code",
      "source": [
        "file = pd.read_csv(first_name)\n",
        "print(file)"
      ],
      "metadata": {
        "id": "YNcZcEy9EAsL"
      },
      "execution_count": null,
      "outputs": []
    },
    {
      "cell_type": "code",
      "source": [
        "file = pd.read_csv(second_name)\n",
        "print(file)"
      ],
      "metadata": {
        "id": "gOTquHjeCTlc"
      },
      "execution_count": null,
      "outputs": []
    }
  ]
}